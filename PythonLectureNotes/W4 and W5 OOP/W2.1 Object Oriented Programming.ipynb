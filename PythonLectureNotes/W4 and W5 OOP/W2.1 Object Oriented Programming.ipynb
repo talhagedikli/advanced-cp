{
 "cells": [
  {
   "cell_type": "code",
   "execution_count": null,
   "metadata": {},
   "outputs": [],
   "source": [
    "#data ==> attributes\n",
    "#method==> functions \n",
    "\n",
    "def MyF(x):\n",
    "    return x**2\n",
    "\n",
    "class Student:     \n",
    "    pass #just skip the details now\n",
    "\n",
    "#this is the definition of the class. \n",
    "#it's different than instances\n",
    "\n",
    "st1 = Student() \n",
    "st2 = Student()"
   ]
  },
  {
   "cell_type": "code",
   "execution_count": null,
   "metadata": {},
   "outputs": [],
   "source": [
    "\n",
    "print(st1)\n",
    "print(st2)"
   ]
  },
  {
   "cell_type": "code",
   "execution_count": null,
   "metadata": {},
   "outputs": [],
   "source": [
    "#assign data/attributes to them\n",
    "st1.first = \"mehmet\"\n",
    "st1.last  = \"guler\"\n",
    "st1.email = \"mehmet.guler@yildiz.edu.tr\"\n",
    "st1.grade = 60\n",
    "\n"
   ]
  },
  {
   "cell_type": "code",
   "execution_count": null,
   "metadata": {},
   "outputs": [],
   "source": [
    "st1.__dict__ # a special keyword for writing objects as dictionaries\n"
   ]
  },
  {
   "cell_type": "code",
   "execution_count": null,
   "metadata": {},
   "outputs": [],
   "source": [
    "st2.first = \"ismail\"\n",
    "st2.last = \"sevim\"\n",
    "st2.email = \"ismail.sevim@yildiz.edu.tr\"\n",
    "st2.grade = 80\n",
    "\n",
    "#We want to do it one by one, \n",
    "#How to make this setup automatically?"
   ]
  },
  {
   "cell_type": "code",
   "execution_count": null,
   "metadata": {},
   "outputs": [],
   "source": [
    "#####################################\n",
    "####   How to initialize an object? ####\n",
    "#####################################\n",
    "# each method (or function) in a class automatically  \n",
    "# takes the instance as its\n",
    "# first argument when an instance is created.  \n",
    "class Student:\n",
    "    def __init__(self, a, b, c):\n",
    "        self.first = a\n",
    "        #you may write \n",
    "        #self.fname = first \n",
    "        #but \n",
    "        #general convention is to use the same name\n",
    "        self.last = b\n",
    "        self.grade= c\n",
    "        self.email = a + '.' + b + '@yildiz.edu.tr'\n",
    "    \n",
    "    def fullname(self): ###Don't forget about self!!!\n",
    "        return self.first + \" \" + self.last\n",
    "\n"
   ]
  },
  {
   "cell_type": "code",
   "execution_count": null,
   "metadata": {},
   "outputs": [],
   "source": [
    "st1 = Student('Mehmet','Guler',60)\n",
    "st2 = Student('Ismail','Sevim',80)\n",
    "st3 = Student(\"Bisher\", \"Allaham\", 85)\n"
   ]
  },
  {
   "cell_type": "code",
   "execution_count": null,
   "metadata": {},
   "outputs": [],
   "source": [
    "st1.__dict__\n"
   ]
  },
  {
   "cell_type": "code",
   "execution_count": null,
   "metadata": {},
   "outputs": [],
   "source": [
    "st1.first\n"
   ]
  },
  {
   "cell_type": "code",
   "execution_count": null,
   "metadata": {},
   "outputs": [],
   "source": [
    "print(st1.email)\n",
    "print(st2.email)"
   ]
  },
  {
   "cell_type": "code",
   "execution_count": null,
   "metadata": {},
   "outputs": [],
   "source": [
    "## Please compare the following three items. \n",
    "print(st2.fullname()) #this is a method, not a variable\n",
    "print(st2.fullname) #this is a method, not a variable\n",
    "print(Student.fullname(st1)) #this is another way of calling the function. "
   ]
  },
  {
   "cell_type": "code",
   "execution_count": null,
   "metadata": {},
   "outputs": [],
   "source": [
    "###############################\n",
    "## Class Data/variable example #########\n",
    "###############################\n",
    "class Student:\n",
    "    #This is a CLASS DATA / Variable. \n",
    "    \n",
    "    LetterGrade='AA'\n",
    "    \n",
    "    def __init__(self, first, last, grade):\n",
    "        self.first = first\n",
    "        self.last  = last\n",
    "        self.grade = grade\n",
    "        self.email = first + '.' + last + '@yildiz.edu.tr'\n",
    "    \n",
    "    def fullname(self): ###Don't forget about self!!!\n",
    "        return self.first + \" \" + self.last\n",
    "    \n",
    "st1 = Student('Mehmet','Guler',60)\n",
    "st2 = Student('Ismail','Sevim',80)"
   ]
  },
  {
   "cell_type": "code",
   "execution_count": null,
   "metadata": {},
   "outputs": [],
   "source": [
    "print(st1.LetterGrade)\n",
    "print(st2.LetterGrade)\n",
    "print(Student.LetterGrade)\n",
    "\n",
    "\n"
   ]
  },
  {
   "cell_type": "code",
   "execution_count": null,
   "metadata": {},
   "outputs": [],
   "source": [
    "print(st1.__dict__) # this shows the data and\n",
    "#the methods of the instace of the object\n"
   ]
  },
  {
   "cell_type": "code",
   "execution_count": null,
   "metadata": {},
   "outputs": [],
   "source": [
    "st1.LetterGrade = 'BB'\n",
    "print(st1.LetterGrade)\n",
    "print(st2.LetterGrade)\n",
    "print(Student.LetterGrade)\n"
   ]
  },
  {
   "cell_type": "code",
   "execution_count": null,
   "metadata": {},
   "outputs": [],
   "source": [
    "print(st1.__dict__)\n",
    "print(st2.__dict__)"
   ]
  },
  {
   "cell_type": "code",
   "execution_count": null,
   "metadata": {},
   "outputs": [],
   "source": [
    "#Defining a function to return a particular data\n",
    "\n",
    "class Student:\n",
    "    LetterGrade='AA'\n",
    "    def __init__(self, first, last, grade):\n",
    "        self.first = first\n",
    "        self.last  = last\n",
    "        self.grade = grade\n",
    "        self.email = first + '.' + last + '@yildiz.edu.tr'\n",
    "    \n",
    "    def fullname(self): ###Don't forget about self!!!\n",
    "        return self.first + \" \" + self.last\n",
    "    \n",
    "    def printLetterGrade(self):\n",
    "        return Student.LetterGrade\n",
    "        #•return self.LetterGrade\n",
    "\n"
   ]
  },
  {
   "cell_type": "code",
   "execution_count": null,
   "metadata": {},
   "outputs": [],
   "source": [
    "st1 = Student('Mehmet','Guler',60)\n",
    "st2 = Student('Ismail','Sevim',80)"
   ]
  },
  {
   "cell_type": "code",
   "execution_count": null,
   "metadata": {},
   "outputs": [],
   "source": [
    "st1.LetterGrade = 'BB'\n",
    "\n",
    "print(st1.printLetterGrade())\n",
    "\n"
   ]
  },
  {
   "cell_type": "code",
   "execution_count": null,
   "metadata": {},
   "outputs": [],
   "source": [
    "st2.LetterGrade = \"DD\"\n",
    "print(st2.printLetterGrade())\n"
   ]
  },
  {
   "cell_type": "code",
   "execution_count": null,
   "metadata": {},
   "outputs": [],
   "source": [
    "# How to add a Class Data/Variable (belong to the class, not to the object instance)\n",
    "# Where to use it? An example...\n",
    "class Student:\n",
    "    LetterGrade='AA'\n",
    "    \n",
    "    NumOfStudents = 0 #I have added another class variable. \n",
    "    \n",
    "    def __init__(self, first, last, grade):\n",
    "        self.first = first\n",
    "        self.last = last\n",
    "        self.grade= grade\n",
    "        self.email = first + '.' + last + '@yildiz.edu.tr'\n",
    "        \n",
    "        #it increments the number of students at \n",
    "        #every instance creation\n",
    "        Student.NumOfStudents +=1\n",
    "    \n",
    "    def fullname(self): ###Don't forget about self!!!\n",
    "        return self.first + \" \" + self.last\n",
    "\n"
   ]
  },
  {
   "cell_type": "code",
   "execution_count": null,
   "metadata": {},
   "outputs": [],
   "source": [
    "st1 = Student('Mehmet','Guler',60)\n",
    "print(Student.NumOfStudents)\n",
    "st2 = Student('Ismail','Sevim',80)\n",
    "print(Student.NumOfStudents)\n",
    "st3 = Student('Bisher', 'Allaham', 90)\n",
    "print(Student.NumOfStudents)\n",
    "st4 = Student('Tugce', 'Koroglu', 95)\n",
    "print(Student.NumOfStudents)\n",
    "st5 = Student('Ebru', 'Gecici', 95)\n",
    "print(Student.NumOfStudents)"
   ]
  },
  {
   "cell_type": "code",
   "execution_count": null,
   "metadata": {},
   "outputs": [],
   "source": [
    "#Create a coordinate class\n",
    "\n",
    "class Coordinate(object):\n",
    "    def __init__(self,x,y):\n",
    "        self.x = x\n",
    "        self.y = y\n",
    "        \n",
    "    def distance(self,other):\n",
    "        x_diff_sq = (self.x-other.x)**2\n",
    "        y_diff_sq = (self.y-other.y)**2\n",
    "        distance = (x_diff_sq + y_diff_sq)**0.5\n",
    "        return distance\n",
    "\n",
    "\n",
    " "
   ]
  },
  {
   "cell_type": "code",
   "execution_count": null,
   "metadata": {},
   "outputs": [],
   "source": [
    "c1 = Coordinate(3,4)\n",
    "c2 = Coordinate(0,0)\n",
    "V1    = c2.distance(c1)\n",
    "print(V1)\n",
    "\n",
    "\n"
   ]
  },
  {
   "cell_type": "code",
   "execution_count": null,
   "metadata": {},
   "outputs": [],
   "source": [
    "#    or\n",
    "V2 = Coordinate.distance(c1,c2)\n",
    "print(V2)"
   ]
  },
  {
   "cell_type": "code",
   "execution_count": 32,
   "metadata": {},
   "outputs": [
    {
     "name": "stdout",
     "output_type": "stream",
     "text": [
      "<__main__.Coordinate object at 0x0000013D74AFA668>\n"
     ]
    }
   ],
   "source": [
    "# How to \"print\" an object? \n",
    "# How to overwrite a function?\n",
    "\n",
    "class Coordinate(object):\n",
    "    def __init__(self,x,y):\n",
    "        self.x = x\n",
    "        self.y = y\n",
    "        \n",
    "    def distance(self,other):\n",
    "        x_diff_sq = (self.x-other.x)**2\n",
    "        y_diff_sq = (self.y-other.y)**2\n",
    "        distance = (x_diff_sq + y_diff_sq)**0.5\n",
    "        return distance\n",
    "\n",
    "c = Coordinate(3,4)\n",
    "print(c)"
   ]
  },
  {
   "cell_type": "code",
   "execution_count": null,
   "metadata": {},
   "outputs": [],
   "source": [
    "# It does not know how to print it. \n",
    "# we will show it\n",
    "# We want it to be printed like this:\n",
    "    \n",
    ">>> print(c)\n",
    "<3,4>\n",
    "\n",
    "# How to do this? "
   ]
  },
  {
   "cell_type": "code",
   "execution_count": 41,
   "metadata": {},
   "outputs": [
    {
     "name": "stdout",
     "output_type": "stream",
     "text": [
      "<3,4>\n",
      "<0,0>\n",
      "<5,9>\n"
     ]
    }
   ],
   "source": [
    "class Coordinate(object):\n",
    "    def __init__(self,x,y):\n",
    "        self.x = x\n",
    "        self.y = y\n",
    "        \n",
    "    def distance(self,other):\n",
    "        x_diff_sq = (self.x-other.x)**2\n",
    "        y_diff_sq = (self.y-other.y)**2\n",
    "        distance = (x_diff_sq + y_diff_sq)**0.5\n",
    "        return distance\n",
    "    def __str__(self):\n",
    "        #return str(self.x) + \",\" + str(self.y)\n",
    "        return \"<\" +str(self.x) + \",\" + str(self.y)+ \">\"\n",
    "    \n",
    "c1 = Coordinate(3,4)\n",
    "print(c1)\n",
    "c2 = Coordinate(0,0)\n",
    "print(c2)\n",
    "c3 = Coordinate(5,9)\n",
    "print(c3) "
   ]
  },
  {
   "cell_type": "code",
   "execution_count": 34,
   "metadata": {},
   "outputs": [
    {
     "ename": "TypeError",
     "evalue": "unsupported operand type(s) for -: 'Coordinate' and 'Coordinate'",
     "output_type": "error",
     "traceback": [
      "\u001b[1;31m---------------------------------------------------------------------------\u001b[0m",
      "\u001b[1;31mTypeError\u001b[0m                                 Traceback (most recent call last)",
      "\u001b[1;32m<ipython-input-34-5f6bcbf73c59>\u001b[0m in \u001b[0;36m<module>\u001b[1;34m\u001b[0m\n\u001b[1;32m----> 1\u001b[1;33m \u001b[0mprint\u001b[0m\u001b[1;33m(\u001b[0m\u001b[0mc1\u001b[0m \u001b[1;33m-\u001b[0m \u001b[0mc3\u001b[0m\u001b[1;33m)\u001b[0m\u001b[1;33m\u001b[0m\u001b[1;33m\u001b[0m\u001b[0m\n\u001b[0m",
      "\u001b[1;31mTypeError\u001b[0m: unsupported operand type(s) for -: 'Coordinate' and 'Coordinate'"
     ]
    }
   ],
   "source": [
    "print(c1 - c3)"
   ]
  },
  {
   "cell_type": "code",
   "execution_count": 35,
   "metadata": {},
   "outputs": [
    {
     "ename": "TypeError",
     "evalue": "unsupported operand type(s) for +: 'Coordinate' and 'Coordinate'",
     "output_type": "error",
     "traceback": [
      "\u001b[1;31m---------------------------------------------------------------------------\u001b[0m",
      "\u001b[1;31mTypeError\u001b[0m                                 Traceback (most recent call last)",
      "\u001b[1;32m<ipython-input-35-b5f21b6a33d8>\u001b[0m in \u001b[0;36m<module>\u001b[1;34m\u001b[0m\n\u001b[1;32m----> 1\u001b[1;33m \u001b[0mprint\u001b[0m\u001b[1;33m(\u001b[0m\u001b[0mc1\u001b[0m \u001b[1;33m+\u001b[0m \u001b[0mc3\u001b[0m\u001b[1;33m)\u001b[0m\u001b[1;33m\u001b[0m\u001b[1;33m\u001b[0m\u001b[0m\n\u001b[0m",
      "\u001b[1;31mTypeError\u001b[0m: unsupported operand type(s) for +: 'Coordinate' and 'Coordinate'"
     ]
    }
   ],
   "source": [
    "print(c1 + c3)"
   ]
  },
  {
   "cell_type": "code",
   "execution_count": 43,
   "metadata": {},
   "outputs": [],
   "source": [
    "class Coordinate(object):\n",
    "    def __init__(self,x,y):\n",
    "        self.x = x\n",
    "        self.y = y\n",
    "        \n",
    "    def distance(self,other):\n",
    "        x_diff_sq = (self.x-other.x)**2\n",
    "        y_diff_sq = (self.y-other.y)**2\n",
    "        distance = (x_diff_sq + y_diff_sq)**0.5\n",
    "        return distance\n",
    "    def __str__(self):\n",
    "        #return str(self.x) + \",\" + str(self.y)\n",
    "        return \"<\" +str(self.x) + \",\" + str(self.y)+ \">\"\n",
    "    \n",
    "    def __add__(self, other):\n",
    "        xsum = self.x + other.x\n",
    "        ysum = self.y + other.y\n",
    "        temp = Coordinate(xsum, ysum)\n",
    "        return temp\n",
    "   \n",
    "    def __sub__(self, other):\n",
    "        xsum = self.x - other.x\n",
    "        ysum = self.y - other.y\n",
    "        temp = Coordinate(xsum, ysum)\n",
    "        return temp \n",
    "    def __eq__(self,other):\n",
    "        xcheck = self.x == other.x\n",
    "        ycheck = self.y == other.y\n",
    "        temp = xcheck and ycheck\n",
    "        return temp\n",
    "\n",
    "\n"
   ]
  },
  {
   "cell_type": "code",
   "execution_count": 44,
   "metadata": {},
   "outputs": [
    {
     "name": "stdout",
     "output_type": "stream",
     "text": [
      "<3,4>\n",
      "<0,0>\n",
      "<5,9>\n"
     ]
    }
   ],
   "source": [
    "c1 = Coordinate(3,4)\n",
    "print(c1)\n",
    "c2 = Coordinate(0,0)\n",
    "print(c2)\n",
    "c3 = Coordinate(5,9)\n",
    "print(c3) "
   ]
  },
  {
   "cell_type": "code",
   "execution_count": 45,
   "metadata": {},
   "outputs": [
    {
     "name": "stdout",
     "output_type": "stream",
     "text": [
      "<-2,-5>\n"
     ]
    }
   ],
   "source": [
    "print(c1 - c3)"
   ]
  },
  {
   "cell_type": "code",
   "execution_count": 46,
   "metadata": {},
   "outputs": [
    {
     "name": "stdout",
     "output_type": "stream",
     "text": [
      "<8,13>\n"
     ]
    }
   ],
   "source": [
    "print(c1 + c3)"
   ]
  },
  {
   "cell_type": "code",
   "execution_count": null,
   "metadata": {},
   "outputs": [],
   "source": [
    "print(c1 == c3)"
   ]
  }
 ],
 "metadata": {
  "kernelspec": {
   "display_name": "Python 3",
   "language": "python",
   "name": "python3"
  },
  "language_info": {
   "codemirror_mode": {
    "name": "ipython",
    "version": 3
   },
   "file_extension": ".py",
   "mimetype": "text/x-python",
   "name": "python",
   "nbconvert_exporter": "python",
   "pygments_lexer": "ipython3",
   "version": "3.7.3"
  }
 },
 "nbformat": 4,
 "nbformat_minor": 2
}
