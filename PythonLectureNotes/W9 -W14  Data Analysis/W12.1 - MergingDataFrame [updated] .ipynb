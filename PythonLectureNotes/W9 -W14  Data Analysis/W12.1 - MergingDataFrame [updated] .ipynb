{
 "cells": [
  {
   "cell_type": "markdown",
   "metadata": {},
   "source": [
    "In this lecture we're going to address how you can bring multiple dataframe objects together, either by\n",
    "merging them horizontally, or by concatenating them vertically. Before we jump into the code, we need to\n",
    "address a little relational theory and to get some language conventions down. I'm going to bring in an image\n",
    "to help explain some concepts.\n",
    "\n",
    "![Venn Diagram](merging1.png)\n"
   ]
  },
  {
   "cell_type": "markdown",
   "metadata": {},
   "source": [
    "Ok, this is a Venn Diagram. A Venn Diagram is traditionally used to show set membership. For example, the \n",
    "circle on the left is the population of students at a university. The circle on the right is the population\n",
    "of  staff at a university. And the overlapping region in the middle are all of those students who are also\n",
    "staff.  Maybe these students run tutorials for a course, or grade assignments, or engage in running research\n",
    " experiments.\n",
    "\n",
    "So, this diagram shows two populations whom we might have data about, but there is overlap between those \n",
    "populations."
   ]
  },
  {
   "cell_type": "markdown",
   "metadata": {},
   "source": [
    "When it comes to translating this to pandas, we can think of the case where we might have these two \n",
    "populations as indices in separate DataFrames, maybe with the label of Person Name. When we want to join the\n",
    "DataFrames together, we have some choices to make. First what if we want a list of all the people regardless\n",
    "of whether they're staff or student, and all of the information we can get on them? In database terminology,\n",
    "this is called a full outer join. And in set theory, it's called a union. In the Venn diagram, it represents\n",
    "everyone in any circle.\n",
    "\n",
    "Here's an image of what that would look like in the Venn diagram.\n",
    "\n",
    "![Union](merging2.png)"
   ]
  },
  {
   "cell_type": "markdown",
   "metadata": {},
   "source": [
    "It's quite possible though that we only want those people who we have maximum information for, those people\n",
    "who are both staff and students. Maybe being a staff member and a student involves getting a tuition waiver,\n",
    "and we want to calculate the cost of this. In database terminology, this is called an inner join. Or in set\n",
    "theory, the intersection. It is represented in the Venn diagram as the overlapping parts of each circle.\n",
    "\n",
    "Here's what that looks like: ![Intersection](merging3.png)\n"
   ]
  },
  {
   "cell_type": "code",
   "execution_count": null,
   "metadata": {},
   "outputs": [],
   "source": [
    "# With that background, let's see an example of how we would do this in pandas, where we would use the merge\n",
    "# function.\n",
    "import pandas as pd\n",
    "\n",
    "# First we create two DataFrames, staff and students.\n",
    "staff_df = pd.DataFrame([{'Name': 'Mehmet', 'Role': 'Instructor'},\n",
    "                         {'Name': 'Nihan', 'Role': 'Chair'},\n",
    "                         {'Name': 'Semih', 'Role': 'Vice Chair'}])\n",
    "# And lets index these staff by name\n",
    "staff_df = staff_df.set_index('Name')\n",
    "# Now we'll create a student dataframe\n",
    "student_df = pd.DataFrame([ {'Name': 'Nihan', 'School': 'ITU'},\n",
    "                            {'Name': 'Semih', 'School': 'YTU'},\n",
    "                            {'Name': 'Mert', 'School': 'ODTU'}\n",
    "                          ])\n",
    "# And we'll index this by name too\n",
    "student_df = student_df.set_index('Name')\n",
    "staff_df.head()\n"
   ]
  },
  {
   "cell_type": "code",
   "execution_count": null,
   "metadata": {},
   "outputs": [],
   "source": [
    "# And lets just print out the dataframes\n",
    "\n",
    "student_df.head()"
   ]
  },
  {
   "cell_type": "markdown",
   "metadata": {},
   "source": [
    "### Please note the indicies. They are the names, i.e., the names are indicies of the dataframe. "
   ]
  },
  {
   "cell_type": "code",
   "execution_count": null,
   "metadata": {},
   "outputs": [],
   "source": [
    "# There's some overlap in these DataFrames in that James and Sally are both students and staff, \n",
    "# but Mike and Kelly are not. \n",
    "# Importantly, both DataFrames are indexed along the value we want to merge them on,\n",
    "# which is called Name."
   ]
  },
  {
   "cell_type": "code",
   "execution_count": null,
   "metadata": {},
   "outputs": [],
   "source": [
    "# If we want the union of these, we would call merge() passing in the DataFrame on the left and the DataFrame\n",
    "# on the right and telling merge that we want it to use an outer join.\n",
    "# Recall In database terminology, this is called a full outer join. \n",
    "# And in set theory, it's called a union. In the Venn diagram, it represents everyone in any circle.\n",
    "# We want to use the left and right indices as the joining columns.\n",
    "\n",
    "pd.merge(staff_df, student_df, how='outer', left_index=True, right_index=True) #Outer = union"
   ]
  },
  {
   "cell_type": "code",
   "execution_count": null,
   "metadata": {},
   "outputs": [],
   "source": [
    "# We see in the resulting DataFrame that everyone is listed. And since Mike does not have a role, and John\n",
    "# does not have a school, those cells are listed as missing values.\n",
    "\n",
    "# If we wanted to get the intersection, that is, just those who are a student AND a staff, we could set the\n",
    "# how attribute to inner. Again, we set both left and right indices to be true as the joining columns\n",
    "\n",
    "\n",
    "pd.merge(staff_df, student_df, how='inner', left_index=True, right_index=True) #inner = intersection"
   ]
  },
  {
   "cell_type": "code",
   "execution_count": null,
   "metadata": {},
   "outputs": [],
   "source": [
    "# And we see the resulting DataFrame has only James and Sally in it. \n",
    "# Now there are two other common use cases\n",
    "# when merging DataFrames, and both are examples of what we would call set addition. The first is when we\n",
    "# would want to get a list of all staff regardless of whether they were students or not. But if they were\n",
    "# students, we would want to get their student details as well. To do this we would use a left join. It is\n",
    "# important to note the order of dataframes in this function: the first dataframe is the left dataframe and\n",
    "# the second is the right\n",
    "\n",
    "pd.merge(staff_df, student_df, how='left', left_index=True, right_index=True) \n",
    "#  take only  the left DF and fetch their properties from right"
   ]
  },
  {
   "cell_type": "code",
   "execution_count": null,
   "metadata": {},
   "outputs": [],
   "source": [
    "# You could probably guess what comes next. We want a list of all of the students and their roles if they were\n",
    "# also staff. To do this we would do a right join.\n",
    "pd.merge(staff_df, student_df, how='right', left_index=True, right_index=True)\n",
    "\n",
    "#  take only  the RIGHT DF and fetch their properties from LEFT\n"
   ]
  },
  {
   "cell_type": "code",
   "execution_count": null,
   "metadata": {},
   "outputs": [],
   "source": [
    "# We can also do it another way. The merge method has a couple of other interesting parameters. First, you\n",
    "# don't need to use indices to join on, you can use columns as well. Here's an example. Here we have a\n",
    "# parameter called \"on\", and we can assign a column that both dataframe has as the joining column\n",
    "\n",
    "# First, lets remove our index from both of our dataframes\n",
    "staff_df   = staff_df.reset_index()\n",
    "student_df = student_df.reset_index()\n",
    "\n",
    "staff_df\n"
   ]
  },
  {
   "cell_type": "code",
   "execution_count": null,
   "metadata": {},
   "outputs": [],
   "source": [
    "student_df"
   ]
  },
  {
   "cell_type": "code",
   "execution_count": null,
   "metadata": {},
   "outputs": [],
   "source": [
    "# Now lets merge using the on parameter\n",
    "pd.merge(staff_df, student_df, how='outer', on='Name')"
   ]
  },
  {
   "cell_type": "markdown",
   "metadata": {},
   "source": [
    "#### This is used more frequently . "
   ]
  },
  {
   "cell_type": "markdown",
   "metadata": {},
   "source": [
    "### Conflicts"
   ]
  },
  {
   "cell_type": "code",
   "execution_count": null,
   "metadata": {},
   "outputs": [],
   "source": [
    "# So what happens when we have **CONFLICTS** between the DataFrames? \n",
    "\n",
    "# Let's take a look by creating new staff and\n",
    "# student DataFrames that have a location information added to them.\n",
    "\n",
    "staff_df = pd.DataFrame([{'Name': 'Nihan', 'Role': 'Chair', \n",
    "                          'Location': 'Gemi Faculty'},\n",
    "                         {'Name': 'Selcuk', 'Role': 'Instructor', \n",
    "                          'Location': 'O block'},\n",
    "                         {'Name': 'Coskun', 'Role': 'Vice Manager', \n",
    "                          'Location': 'E block'}])\n",
    "\n",
    "student_df = pd.DataFrame([{'Name': 'Selcuk', 'School': 'YTU', \n",
    "                            'Location': 'O Block'},\n",
    "                          {'Name': 'Coskun', 'School': 'ITU', \n",
    "                            'Location': 'F block'},\n",
    "                           {'Name': 'Mert', 'School': 'Ege', \n",
    "                            'Location': 'F Block'}])\n",
    "\n",
    "# In the staff DataFrame, this is an office location where we can find the staff person. And we can see the\n",
    "# Director of HR is on State Street, while the two students are on Washington Avenue, and these locations just\n",
    "# happen to be right outside my window as I film this. But for the student DataFrame, the location information\n",
    "# is actually their home address.\n",
    "staff_df\n",
    "\n"
   ]
  },
  {
   "cell_type": "code",
   "execution_count": null,
   "metadata": {},
   "outputs": [],
   "source": [
    "student_df"
   ]
  },
  {
   "cell_type": "code",
   "execution_count": null,
   "metadata": {},
   "outputs": [],
   "source": [
    "# The merge function preserves this information, but appends an _x or _y to help differentiate between which\n",
    "# index went with which column of data. The _x is always the left DataFrame information, and the _y is always\n",
    "# the right DataFrame information.\n",
    "\n",
    "# Here, if we want all the staff information regardless of whether they were students or not. But if they were\n",
    "# students, we would want to get their student details as well.Then we can do a left join and on the column of\n",
    "# Name\n",
    "\n",
    "\n",
    "pd.merge(staff_df, student_df, how='left', on='Name')"
   ]
  },
  {
   "cell_type": "code",
   "execution_count": null,
   "metadata": {},
   "outputs": [],
   "source": [
    "# From the output, we can see there are columns Location_x and Location_y. Location_x refers to the Location\n",
    "# column in the left dataframe, which is staff dataframe and Location_y refers to the Location column in the\n",
    "# right dataframe, which is student dataframe.\n",
    "\n",
    "# Before we leave merging of DataFrames, let's talk about multi-indexing and multiple columns. It's quite\n",
    "# possible that the first name for students and staff might overlap, but the last name might not. In this\n",
    "# case, we use a list of the multiple columns that should be used to join keys from both dataframes on the on\n",
    "# parameter. Recall that the column name(s) assigned to the on parameter needs to exist in both dataframes.\n",
    "\n",
    "# Here's an example with some new student and staff data\n",
    "\n",
    "staff_df = pd.DataFrame([{'Name': 'Nihan', 'Last Name': 'Demirel', 'Role': 'Chair',  \n",
    "                          'Location': 'Gemi Faculty'},\n",
    "                         {'Name': 'Selcuk', 'Last Name': 'Alp', 'Role': 'Instructor', \n",
    "                          'Location': 'O block'},\n",
    "                         {'Name': 'Coskun', 'Last Name': 'Ozkan', 'Role': 'Vice Manager',  \n",
    "                          'Location': 'E block'}])\n",
    "\n",
    "student_df = pd.DataFrame([{'Name': 'Selcuk', 'Last Name': 'Cebi', 'School': 'YTU', \n",
    "                            'Location': 'O Block'},\n",
    "                          {'Name': 'Coskun',  'Last Name': 'Ozkan',  'School': 'ITU',\n",
    "                            'Location': 'F block'},\n",
    "                           {'Name': 'Mert',  'Last Name': 'Edali', 'School': 'Ege',\n",
    "                            'Location': 'F Block'}])\n",
    "\n",
    "# As you see here, James Wilde and James Hammond don't match on both keys since they have different last\n",
    "# names. So we would expect that an inner join doesn't include these individuals in the output, and only Sally\n",
    "# Brooks will be retained.\n",
    "staff_df"
   ]
  },
  {
   "cell_type": "code",
   "execution_count": null,
   "metadata": {},
   "outputs": [],
   "source": [
    "student_df"
   ]
  },
  {
   "cell_type": "code",
   "execution_count": null,
   "metadata": {},
   "outputs": [],
   "source": [
    "pd.merge(staff_df, student_df, how='inner', on=['Name','Last Name'])"
   ]
  },
  {
   "cell_type": "code",
   "execution_count": null,
   "metadata": {},
   "outputs": [],
   "source": [
    "#also check this\n",
    "\n",
    "pd.merge(staff_df, student_df, how='inner', on=['Name']) "
   ]
  },
  {
   "cell_type": "code",
   "execution_count": null,
   "metadata": {},
   "outputs": [],
   "source": [
    "# Joining dataframes through merging is incredibly common, \n",
    "# and you'll need to know how to pull data from\n",
    "# different sources, clean it, and join it for analysis. \n",
    "# This is a staple not only of pandas, but of database\n",
    "# technologies as well."
   ]
  },
  {
   "cell_type": "markdown",
   "metadata": {},
   "source": [
    "### Horizontally merge vs vertically merge"
   ]
  },
  {
   "cell_type": "code",
   "execution_count": null,
   "metadata": {},
   "outputs": [],
   "source": [
    "# If we think of merging as joining \"horizontally\", meaning we join on similar values in a column found in two\n",
    "# dataframes, then, concatenating is joining \"vertically\", meaning we put dataframes on top or at the bottom of\n",
    "# each other\n",
    "\n"
   ]
  },
  {
   "cell_type": "code",
   "execution_count": 73,
   "metadata": {},
   "outputs": [],
   "source": [
    "import pandas as pd\n",
    "# First DataFrame\n",
    "\n",
    "staff_df1 = pd.DataFrame([{'Name': 'Nihan', 'Last Name': 'Demirel', 'Role': 'Chair',  \n",
    "                          'Location': 'Gemi Faculty'},\n",
    "                         {'Name': 'Selcuk', 'Last Name': 'Alp', 'Role': 'Instructor', \n",
    "                          'Location': 'O block'},\n",
    "                         {'Name': 'Coskun', 'Last Name': 'Ozkan', 'Role': 'Vice Manager',  \n",
    "                          'Location': 'E block'}])\n",
    "\n",
    "staff_df2 = pd.DataFrame([{'Name': 'Mehmet', 'Last Name': 'Guler', 'Role': 'Instructor',  \n",
    "                          'Location': 'B Roof'},\n",
    "                         {'Name': 'Selcuk', 'Last Name': 'Cebi', 'Role': 'Vice Manager',  \n",
    "                          'Location': 'B Roof'},\n",
    "                         {'Name': 'Alev', 'Last Name': 'Gumus', 'Role': 'Instructor',  \n",
    "                          'Location': 'V  Block'},\n",
    "                         {'Name': 'Umut', 'Last Name': 'Tuzkaya', 'Role': 'Vice President',  \n",
    "                          'Location': 'Tas Bina'},])\n",
    "frames = [staff_df1, staff_df2]\n",
    "\n",
    "\n"
   ]
  },
  {
   "cell_type": "code",
   "execution_count": 74,
   "metadata": {},
   "outputs": [
    {
     "data": {
      "text/html": [
       "<div>\n",
       "<style scoped>\n",
       "    .dataframe tbody tr th:only-of-type {\n",
       "        vertical-align: middle;\n",
       "    }\n",
       "\n",
       "    .dataframe tbody tr th {\n",
       "        vertical-align: top;\n",
       "    }\n",
       "\n",
       "    .dataframe thead th {\n",
       "        text-align: right;\n",
       "    }\n",
       "</style>\n",
       "<table border=\"1\" class=\"dataframe\">\n",
       "  <thead>\n",
       "    <tr style=\"text-align: right;\">\n",
       "      <th></th>\n",
       "      <th>Name</th>\n",
       "      <th>Last Name</th>\n",
       "      <th>Role</th>\n",
       "      <th>Location</th>\n",
       "    </tr>\n",
       "  </thead>\n",
       "  <tbody>\n",
       "    <tr>\n",
       "      <th>0</th>\n",
       "      <td>Nihan</td>\n",
       "      <td>Demirel</td>\n",
       "      <td>Chair</td>\n",
       "      <td>Gemi Faculty</td>\n",
       "    </tr>\n",
       "    <tr>\n",
       "      <th>1</th>\n",
       "      <td>Selcuk</td>\n",
       "      <td>Alp</td>\n",
       "      <td>Instructor</td>\n",
       "      <td>O block</td>\n",
       "    </tr>\n",
       "    <tr>\n",
       "      <th>2</th>\n",
       "      <td>Coskun</td>\n",
       "      <td>Ozkan</td>\n",
       "      <td>Vice Manager</td>\n",
       "      <td>E block</td>\n",
       "    </tr>\n",
       "  </tbody>\n",
       "</table>\n",
       "</div>"
      ],
      "text/plain": [
       "     Name Last Name          Role      Location\n",
       "0   Nihan   Demirel         Chair  Gemi Faculty\n",
       "1  Selcuk       Alp    Instructor       O block\n",
       "2  Coskun     Ozkan  Vice Manager       E block"
      ]
     },
     "execution_count": 74,
     "metadata": {},
     "output_type": "execute_result"
    }
   ],
   "source": [
    "staff_df1"
   ]
  },
  {
   "cell_type": "code",
   "execution_count": 75,
   "metadata": {},
   "outputs": [],
   "source": [
    "staff_df1 = staff_df1.set_index('Name')"
   ]
  },
  {
   "cell_type": "code",
   "execution_count": 76,
   "metadata": {},
   "outputs": [
    {
     "data": {
      "text/html": [
       "<div>\n",
       "<style scoped>\n",
       "    .dataframe tbody tr th:only-of-type {\n",
       "        vertical-align: middle;\n",
       "    }\n",
       "\n",
       "    .dataframe tbody tr th {\n",
       "        vertical-align: top;\n",
       "    }\n",
       "\n",
       "    .dataframe thead th {\n",
       "        text-align: right;\n",
       "    }\n",
       "</style>\n",
       "<table border=\"1\" class=\"dataframe\">\n",
       "  <thead>\n",
       "    <tr style=\"text-align: right;\">\n",
       "      <th></th>\n",
       "      <th>Name</th>\n",
       "      <th>Last Name</th>\n",
       "      <th>Role</th>\n",
       "      <th>Location</th>\n",
       "    </tr>\n",
       "  </thead>\n",
       "  <tbody>\n",
       "    <tr>\n",
       "      <th>0</th>\n",
       "      <td>Mehmet</td>\n",
       "      <td>Guler</td>\n",
       "      <td>Instructor</td>\n",
       "      <td>B Roof</td>\n",
       "    </tr>\n",
       "    <tr>\n",
       "      <th>1</th>\n",
       "      <td>Selcuk</td>\n",
       "      <td>Cebi</td>\n",
       "      <td>Vice Manager</td>\n",
       "      <td>B Roof</td>\n",
       "    </tr>\n",
       "    <tr>\n",
       "      <th>2</th>\n",
       "      <td>Alev</td>\n",
       "      <td>Gumus</td>\n",
       "      <td>Instructor</td>\n",
       "      <td>V  Block</td>\n",
       "    </tr>\n",
       "    <tr>\n",
       "      <th>3</th>\n",
       "      <td>Umut</td>\n",
       "      <td>Tuzkaya</td>\n",
       "      <td>Vice President</td>\n",
       "      <td>Tas Bina</td>\n",
       "    </tr>\n",
       "  </tbody>\n",
       "</table>\n",
       "</div>"
      ],
      "text/plain": [
       "     Name Last Name            Role  Location\n",
       "0  Mehmet     Guler      Instructor    B Roof\n",
       "1  Selcuk      Cebi    Vice Manager    B Roof\n",
       "2    Alev     Gumus      Instructor  V  Block\n",
       "3    Umut   Tuzkaya  Vice President  Tas Bina"
      ]
     },
     "execution_count": 76,
     "metadata": {},
     "output_type": "execute_result"
    }
   ],
   "source": [
    "staff_df2"
   ]
  },
  {
   "cell_type": "code",
   "execution_count": 77,
   "metadata": {},
   "outputs": [],
   "source": [
    "staff_df2 = staff_df2.set_index('Name')\n"
   ]
  },
  {
   "cell_type": "code",
   "execution_count": 78,
   "metadata": {},
   "outputs": [
    {
     "data": {
      "text/html": [
       "<div>\n",
       "<style scoped>\n",
       "    .dataframe tbody tr th:only-of-type {\n",
       "        vertical-align: middle;\n",
       "    }\n",
       "\n",
       "    .dataframe tbody tr th {\n",
       "        vertical-align: top;\n",
       "    }\n",
       "\n",
       "    .dataframe thead th {\n",
       "        text-align: right;\n",
       "    }\n",
       "</style>\n",
       "<table border=\"1\" class=\"dataframe\">\n",
       "  <thead>\n",
       "    <tr style=\"text-align: right;\">\n",
       "      <th></th>\n",
       "      <th>Last Name</th>\n",
       "      <th>Role</th>\n",
       "      <th>Location</th>\n",
       "    </tr>\n",
       "    <tr>\n",
       "      <th>Name</th>\n",
       "      <th></th>\n",
       "      <th></th>\n",
       "      <th></th>\n",
       "    </tr>\n",
       "  </thead>\n",
       "  <tbody>\n",
       "    <tr>\n",
       "      <th>Mehmet</th>\n",
       "      <td>Guler</td>\n",
       "      <td>Instructor</td>\n",
       "      <td>B Roof</td>\n",
       "    </tr>\n",
       "    <tr>\n",
       "      <th>Selcuk</th>\n",
       "      <td>Cebi</td>\n",
       "      <td>Vice Manager</td>\n",
       "      <td>B Roof</td>\n",
       "    </tr>\n",
       "    <tr>\n",
       "      <th>Alev</th>\n",
       "      <td>Gumus</td>\n",
       "      <td>Instructor</td>\n",
       "      <td>V  Block</td>\n",
       "    </tr>\n",
       "    <tr>\n",
       "      <th>Umut</th>\n",
       "      <td>Tuzkaya</td>\n",
       "      <td>Vice President</td>\n",
       "      <td>Tas Bina</td>\n",
       "    </tr>\n",
       "  </tbody>\n",
       "</table>\n",
       "</div>"
      ],
      "text/plain": [
       "       Last Name            Role  Location\n",
       "Name                                      \n",
       "Mehmet     Guler      Instructor    B Roof\n",
       "Selcuk      Cebi    Vice Manager    B Roof\n",
       "Alev       Gumus      Instructor  V  Block\n",
       "Umut     Tuzkaya  Vice President  Tas Bina"
      ]
     },
     "execution_count": 78,
     "metadata": {},
     "output_type": "execute_result"
    }
   ],
   "source": [
    "staff_df2"
   ]
  },
  {
   "cell_type": "code",
   "execution_count": 79,
   "metadata": {},
   "outputs": [
    {
     "data": {
      "text/html": [
       "<div>\n",
       "<style scoped>\n",
       "    .dataframe tbody tr th:only-of-type {\n",
       "        vertical-align: middle;\n",
       "    }\n",
       "\n",
       "    .dataframe tbody tr th {\n",
       "        vertical-align: top;\n",
       "    }\n",
       "\n",
       "    .dataframe thead th {\n",
       "        text-align: right;\n",
       "    }\n",
       "</style>\n",
       "<table border=\"1\" class=\"dataframe\">\n",
       "  <thead>\n",
       "    <tr style=\"text-align: right;\">\n",
       "      <th></th>\n",
       "      <th>Last Name</th>\n",
       "      <th>Role</th>\n",
       "      <th>Location</th>\n",
       "    </tr>\n",
       "    <tr>\n",
       "      <th>Name</th>\n",
       "      <th></th>\n",
       "      <th></th>\n",
       "      <th></th>\n",
       "    </tr>\n",
       "  </thead>\n",
       "  <tbody>\n",
       "    <tr>\n",
       "      <th>Nihan</th>\n",
       "      <td>Demirel</td>\n",
       "      <td>Chair</td>\n",
       "      <td>Gemi Faculty</td>\n",
       "    </tr>\n",
       "    <tr>\n",
       "      <th>Selcuk</th>\n",
       "      <td>Alp</td>\n",
       "      <td>Instructor</td>\n",
       "      <td>O block</td>\n",
       "    </tr>\n",
       "    <tr>\n",
       "      <th>Coskun</th>\n",
       "      <td>Ozkan</td>\n",
       "      <td>Vice Manager</td>\n",
       "      <td>E block</td>\n",
       "    </tr>\n",
       "    <tr>\n",
       "      <th>Mehmet</th>\n",
       "      <td>Guler</td>\n",
       "      <td>Instructor</td>\n",
       "      <td>B Roof</td>\n",
       "    </tr>\n",
       "    <tr>\n",
       "      <th>Selcuk</th>\n",
       "      <td>Cebi</td>\n",
       "      <td>Vice Manager</td>\n",
       "      <td>B Roof</td>\n",
       "    </tr>\n",
       "    <tr>\n",
       "      <th>Alev</th>\n",
       "      <td>Gumus</td>\n",
       "      <td>Instructor</td>\n",
       "      <td>V  Block</td>\n",
       "    </tr>\n",
       "    <tr>\n",
       "      <th>Umut</th>\n",
       "      <td>Tuzkaya</td>\n",
       "      <td>Vice President</td>\n",
       "      <td>Tas Bina</td>\n",
       "    </tr>\n",
       "  </tbody>\n",
       "</table>\n",
       "</div>"
      ],
      "text/plain": [
       "       Last Name            Role      Location\n",
       "Name                                          \n",
       "Nihan    Demirel           Chair  Gemi Faculty\n",
       "Selcuk       Alp      Instructor       O block\n",
       "Coskun     Ozkan    Vice Manager       E block\n",
       "Mehmet     Guler      Instructor        B Roof\n",
       "Selcuk      Cebi    Vice Manager        B Roof\n",
       "Alev       Gumus      Instructor      V  Block\n",
       "Umut     Tuzkaya  Vice President      Tas Bina"
      ]
     },
     "execution_count": 79,
     "metadata": {},
     "output_type": "execute_result"
    }
   ],
   "source": [
    "pd.concat([staff_df1,staff_df2])\n"
   ]
  },
  {
   "cell_type": "code",
   "execution_count": 80,
   "metadata": {},
   "outputs": [
    {
     "data": {
      "text/html": [
       "<div>\n",
       "<style scoped>\n",
       "    .dataframe tbody tr th:only-of-type {\n",
       "        vertical-align: middle;\n",
       "    }\n",
       "\n",
       "    .dataframe tbody tr th {\n",
       "        vertical-align: top;\n",
       "    }\n",
       "\n",
       "    .dataframe thead th {\n",
       "        text-align: right;\n",
       "    }\n",
       "</style>\n",
       "<table border=\"1\" class=\"dataframe\">\n",
       "  <thead>\n",
       "    <tr style=\"text-align: right;\">\n",
       "      <th></th>\n",
       "      <th>Last Name</th>\n",
       "      <th>Role</th>\n",
       "      <th>Location</th>\n",
       "    </tr>\n",
       "    <tr>\n",
       "      <th>Name</th>\n",
       "      <th></th>\n",
       "      <th></th>\n",
       "      <th></th>\n",
       "    </tr>\n",
       "  </thead>\n",
       "  <tbody>\n",
       "    <tr>\n",
       "      <th>Nihan</th>\n",
       "      <td>Demirel</td>\n",
       "      <td>Chair</td>\n",
       "      <td>Gemi Faculty</td>\n",
       "    </tr>\n",
       "    <tr>\n",
       "      <th>Selcuk</th>\n",
       "      <td>Alp</td>\n",
       "      <td>Instructor</td>\n",
       "      <td>O block</td>\n",
       "    </tr>\n",
       "    <tr>\n",
       "      <th>Coskun</th>\n",
       "      <td>Ozkan</td>\n",
       "      <td>Vice Manager</td>\n",
       "      <td>E block</td>\n",
       "    </tr>\n",
       "  </tbody>\n",
       "</table>\n",
       "</div>"
      ],
      "text/plain": [
       "       Last Name          Role      Location\n",
       "Name                                        \n",
       "Nihan    Demirel         Chair  Gemi Faculty\n",
       "Selcuk       Alp    Instructor       O block\n",
       "Coskun     Ozkan  Vice Manager       E block"
      ]
     },
     "execution_count": 80,
     "metadata": {},
     "output_type": "execute_result"
    }
   ],
   "source": [
    "staff_df1"
   ]
  },
  {
   "cell_type": "code",
   "execution_count": 81,
   "metadata": {},
   "outputs": [
    {
     "data": {
      "text/html": [
       "<div>\n",
       "<style scoped>\n",
       "    .dataframe tbody tr th:only-of-type {\n",
       "        vertical-align: middle;\n",
       "    }\n",
       "\n",
       "    .dataframe tbody tr th {\n",
       "        vertical-align: top;\n",
       "    }\n",
       "\n",
       "    .dataframe thead th {\n",
       "        text-align: right;\n",
       "    }\n",
       "</style>\n",
       "<table border=\"1\" class=\"dataframe\">\n",
       "  <thead>\n",
       "    <tr style=\"text-align: right;\">\n",
       "      <th></th>\n",
       "      <th>Name</th>\n",
       "      <th>Last Name</th>\n",
       "      <th>Role</th>\n",
       "      <th>Location</th>\n",
       "    </tr>\n",
       "  </thead>\n",
       "  <tbody>\n",
       "    <tr>\n",
       "      <th>0</th>\n",
       "      <td>Nihan</td>\n",
       "      <td>Demirel</td>\n",
       "      <td>Chair</td>\n",
       "      <td>Gemi Faculty</td>\n",
       "    </tr>\n",
       "    <tr>\n",
       "      <th>1</th>\n",
       "      <td>Selcuk</td>\n",
       "      <td>Alp</td>\n",
       "      <td>Instructor</td>\n",
       "      <td>O block</td>\n",
       "    </tr>\n",
       "    <tr>\n",
       "      <th>2</th>\n",
       "      <td>Coskun</td>\n",
       "      <td>Ozkan</td>\n",
       "      <td>Vice Manager</td>\n",
       "      <td>E block</td>\n",
       "    </tr>\n",
       "    <tr>\n",
       "      <th>0</th>\n",
       "      <td>Mehmet</td>\n",
       "      <td>Guler</td>\n",
       "      <td>Instructor</td>\n",
       "      <td>B Roof</td>\n",
       "    </tr>\n",
       "    <tr>\n",
       "      <th>1</th>\n",
       "      <td>Selcuk</td>\n",
       "      <td>Cebi</td>\n",
       "      <td>Vice Manager</td>\n",
       "      <td>B Roof</td>\n",
       "    </tr>\n",
       "    <tr>\n",
       "      <th>2</th>\n",
       "      <td>Alev</td>\n",
       "      <td>Gumus</td>\n",
       "      <td>Instructor</td>\n",
       "      <td>V  Block</td>\n",
       "    </tr>\n",
       "    <tr>\n",
       "      <th>3</th>\n",
       "      <td>Umut</td>\n",
       "      <td>Tuzkaya</td>\n",
       "      <td>Vice President</td>\n",
       "      <td>Tas Bina</td>\n",
       "    </tr>\n",
       "  </tbody>\n",
       "</table>\n",
       "</div>"
      ],
      "text/plain": [
       "     Name Last Name            Role      Location\n",
       "0   Nihan   Demirel           Chair  Gemi Faculty\n",
       "1  Selcuk       Alp      Instructor       O block\n",
       "2  Coskun     Ozkan    Vice Manager       E block\n",
       "0  Mehmet     Guler      Instructor        B Roof\n",
       "1  Selcuk      Cebi    Vice Manager        B Roof\n",
       "2    Alev     Gumus      Instructor      V  Block\n",
       "3    Umut   Tuzkaya  Vice President      Tas Bina"
      ]
     },
     "execution_count": 81,
     "metadata": {},
     "output_type": "execute_result"
    }
   ],
   "source": [
    "staff_df1   = staff_df1.reset_index()\n",
    "staff_df2   = staff_df2.reset_index()\n",
    "\n",
    "pd.concat([staff_df1,staff_df2])\n"
   ]
  },
  {
   "cell_type": "code",
   "execution_count": null,
   "metadata": {},
   "outputs": [],
   "source": []
  },
  {
   "cell_type": "markdown",
   "metadata": {},
   "source": [
    "Now you know how to merge and concatenate datasets together. You will find such functions very useful for\n",
    "combining data to get more complex or complicated results and to do analysis with. A solid understanding of\n",
    "how to merge data is absolutely essentially when you are procuring, cleaning, and manipulating data. It's\n",
    "worth knowing how to join different datasets quickly, and the different options you can use when joining\n",
    "datasets, and I would encourage you to check out the pandas docs for joining and concatenating data."
   ]
  }
 ],
 "metadata": {
  "kernelspec": {
   "display_name": "Python 3",
   "language": "python",
   "name": "python3"
  },
  "language_info": {
   "codemirror_mode": {
    "name": "ipython",
    "version": 3
   },
   "file_extension": ".py",
   "mimetype": "text/x-python",
   "name": "python",
   "nbconvert_exporter": "python",
   "pygments_lexer": "ipython3",
   "version": "3.8.8"
  }
 },
 "nbformat": 4,
 "nbformat_minor": 2
}
