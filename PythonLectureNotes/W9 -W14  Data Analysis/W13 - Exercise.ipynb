{
 "cells": [
  {
   "cell_type": "markdown",
   "metadata": {},
   "source": [
    "Exercise: Find the average sepal_length, sepal_width,  petal_length, petal_width of  'setosa', 'versicolor', 'virginica' and make a plot similar to the one above with three bar plots. "
   ]
  },
  {
   "cell_type": "markdown",
   "metadata": {},
   "source": [
    "Exercise: For the dataset that you have for the assignment, make a scatter plot with  ( the first attribute is x, the second one is y). \n",
    "    - km and the price. \n",
    "    - fuel and price\n",
    "    - transmission and price\n",
    "    - power and price \n",
    "    - engine and price\n",
    "    - engine and power. \n",
    " \n",
    " Exercise:\n",
    "    - If you want to find a line that passes thru the scatter plot of km and price, what should be its formula, how to find it? "
   ]
  },
  {
   "cell_type": "code",
   "execution_count": null,
   "metadata": {},
   "outputs": [],
   "source": []
  }
 ],
 "metadata": {
  "kernelspec": {
   "display_name": "Python 3",
   "language": "python",
   "name": "python3"
  },
  "language_info": {
   "codemirror_mode": {
    "name": "ipython",
    "version": 3
   },
   "file_extension": ".py",
   "mimetype": "text/x-python",
   "name": "python",
   "nbconvert_exporter": "python",
   "pygments_lexer": "ipython3",
   "version": "3.7.3"
  }
 },
 "nbformat": 4,
 "nbformat_minor": 2
}
