{
 "cells": [
  {
   "cell_type": "markdown",
   "id": "03c2a4cb",
   "metadata": {},
   "source": [
    "#### Exercise 1"
   ]
  },
  {
   "cell_type": "code",
   "execution_count": null,
   "id": "39630df4",
   "metadata": {},
   "outputs": [],
   "source": [
    "df = pd.read_csv('datasets/mpg.csv',index_col=0)\n",
    "\n",
    "\n",
    "# do the following for cyl and write the results into a dataframe. \n",
    "\n",
    "for k in df['class'].unique(): ##=> gives me the list of the manufacturer\n",
    "    # We'll just calculate the average using numpy for this particular state\n",
    "    #avg = np.average(df.where(df['manufacturer']==k).dropna()['cty'])\n",
    "    #or\n",
    "\n",
    "    avg = np.average(df[df['class']==k]['cty'])\n",
    "     # And we'll print it to the screen\n",
    "    print('Car brand ' + str(k) + \n",
    "          ' have an average consumption of ' + str(avg))\n",
    "\n",
    "    "
   ]
  },
  {
   "cell_type": "markdown",
   "id": "57245898",
   "metadata": {},
   "source": [
    "#### Exercise 2\n",
    "\n",
    "Using this multiindexing, find the average cty consumption for each index. \n",
    "\n",
    "\n",
    "df=df.set_index([\"manufacturer\",\"class\"])\n"
   ]
  },
  {
   "cell_type": "markdown",
   "id": "55dc6840",
   "metadata": {},
   "source": [
    "#### The following is the formula for standard deviation where xbar is the average. \n",
    "![Venn Diagram](st_dev_formula.png)"
   ]
  },
  {
   "cell_type": "markdown",
   "id": "7f80bb93",
   "metadata": {},
   "source": [
    "#### Exercise 3\n",
    "Find the average of cty consumption of all of the cars and then calculate the standard deviation for the city consumption. \n",
    "Filter the dataset so that if the consumption is \n",
    "- larger than mean + (2)(st_dev) or \n",
    "- is smaller than mean - (2)(st_dev)"
   ]
  },
  {
   "cell_type": "markdown",
   "id": "a9e7ed8b",
   "metadata": {},
   "source": [
    "#### Exercise 4\n",
    "\n",
    "\n",
    "Find the average of cty consumption for all manufacturer type and calculate the standard deviation within the manufacturer types. \n",
    "Add this as a column to the original data frame. \n",
    "Filter the dataframe so that if the consumption  is \n",
    "- larger than mean + (2)(st_dev_within_group) or \n",
    "- is smaller than mean - (2)(st_dev_within_group)  "
   ]
  }
 ],
 "metadata": {
  "kernelspec": {
   "display_name": "Python 3",
   "language": "python",
   "name": "python3"
  },
  "language_info": {
   "codemirror_mode": {
    "name": "ipython",
    "version": 3
   },
   "file_extension": ".py",
   "mimetype": "text/x-python",
   "name": "python",
   "nbconvert_exporter": "python",
   "pygments_lexer": "ipython3",
   "version": "3.8.8"
  }
 },
 "nbformat": 4,
 "nbformat_minor": 5
}
