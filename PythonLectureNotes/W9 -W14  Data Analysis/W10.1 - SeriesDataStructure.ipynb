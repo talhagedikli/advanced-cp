{
 "cells": [
  {
   "cell_type": "markdown",
   "metadata": {},
   "source": [
    "In this lecture we're going to explore the pandas Series structure. By the end of this lecture you should be \n",
    "familiar with how to store and manipulate single dimensional indexed data in the Series object."
   ]
  },
  {
   "cell_type": "markdown",
   "metadata": {},
   "source": [
    "The series is one of the core data structures in pandas. You think of it a cross between a list and a dictionary. \n",
    "The items are all stored in an order and there's labels with which you can retrieve them. \n",
    "\n",
    "An easy way to visualize this is two columns of data. The first is the special index, a lot like keys in a dictionary. While the second is your actual data. \n",
    "\n",
    "It's important to note that the data column has a label of its own and can be  retrieved using the .name attribute. This is different than with dictionaries and is useful when it comes to  merging multiple columns of data. And we'll talk about that later on in the course.\n",
    "\n",
    "Series can only contain single list with index, whereas dataframe can be made of more than one series or we can say that a dataframe is a collection of series that can be used to analyse the data.\n"
   ]
  },
  {
   "cell_type": "code",
   "execution_count": null,
   "metadata": {},
   "outputs": [],
   "source": [
    "# Let's import pandas to get started\n",
    "import pandas as pd"
   ]
  },
  {
   "cell_type": "code",
   "execution_count": 22,
   "metadata": {},
   "outputs": [
    {
     "data": {
      "text/plain": [
       "RangeIndex(start=0, stop=3, step=1)"
      ]
     },
     "execution_count": 22,
     "metadata": {},
     "output_type": "execute_result"
    }
   ],
   "source": [
    "# As you might expect, you can create a series by passing in a list of values. \n",
    "# When you do this, Pandas automatically assigns an index starting with zero and\n",
    "# sets the name of the series to None. Let's work on an example of this.\n",
    "\n",
    "# One of the easiest ways to create a series is to use an array-like object, like \n",
    "# a list. \n",
    "\n",
    "# Here I'll make a list of the three of students, Alice, Jack, and Molly, all as strings\n",
    "students = ['Alice', 'Jack', 'Molly']\n",
    "\n",
    "# Now we just call the Series function in pandas and pass in the students\n",
    "a = pd.Series(students)\n",
    "a.index"
   ]
  },
  {
   "cell_type": "code",
   "execution_count": null,
   "metadata": {},
   "outputs": [],
   "source": [
    "for i in a:\n",
    "    print(i)\n"
   ]
  },
  {
   "cell_type": "code",
   "execution_count": null,
   "metadata": {},
   "outputs": [],
   "source": [
    "# The pandas has automatically identified the type of data in this Series as \"object\" and\n",
    "# set the dytpe parameter as appropriate. \n",
    "# We see that the values are indexed with integers,  starting at zero"
   ]
  },
  {
   "cell_type": "code",
   "execution_count": 19,
   "metadata": {},
   "outputs": [
    {
     "data": {
      "text/plain": [
       "<function list.index(value, start=0, stop=9223372036854775807, /)>"
      ]
     },
     "execution_count": 19,
     "metadata": {},
     "output_type": "execute_result"
    }
   ],
   "source": [
    "# We don't have to use strings. If we passed in a list of whole numbers, for instance, \n",
    "# we could see that panda sets the type to int64. Underneath panda stores series values in a \n",
    "# typed array using the Numpy library. This offers significant speedup when processing data \n",
    "# versus traditional python lists.\n",
    "\n",
    "# Lets create a little list of numbers\n",
    "numbers = [1, 2, 3]\n",
    "# And turn that into a series\n",
    "pd.Series(numbers)\n",
    "numbers.index"
   ]
  },
  {
   "cell_type": "code",
   "execution_count": null,
   "metadata": {},
   "outputs": [],
   "source": [
    "# And we see on my architecture that the result is a dtype of int64 objects"
   ]
  },
  {
   "cell_type": "code",
   "execution_count": null,
   "metadata": {},
   "outputs": [],
   "source": [
    "# There's some other typing details that exist for performance that are important to know. \n",
    "# The most important is how Numpy and thus pandas handle missing data. \n",
    "\n",
    "# In Python, we have the ---none--- type to indicate a lack of data. \n",
    "# But what do we do if we want to have a typed list like we do in the series object?\n",
    "\n",
    "# Underneath, pandas does some type conversion. If we create a list of strings and we have \n",
    "# one element, a None type, pandas inserts it as a None and uses the type object for the \n",
    "# underlying array. \n",
    "\n"
   ]
  },
  {
   "cell_type": "code",
   "execution_count": null,
   "metadata": {},
   "outputs": [],
   "source": [
    "# Let's recreate our list of students, but leave the last one as a None\n",
    "students = ['Alice', 'Jack', None]\n",
    "# And lets convert this to a series\n",
    "a = pd.Series(students)\n",
    "a"
   ]
  },
  {
   "cell_type": "code",
   "execution_count": null,
   "metadata": {},
   "outputs": [],
   "source": [
    "# However, if we create a list of numbers, integers or floats, and put in the None type,\n",
    "# pandas automatically converts this to a special floating point value designated as NaN, \n",
    "# which stands for \"Not a Number\".\n",
    "\n",
    "# So lets create a list with a None value in it\n",
    "numbers = [1, 2, None]\n",
    "# And turn that into a series\n",
    "numbers_series = pd.Series(numbers)\n",
    "numbers_series"
   ]
  },
  {
   "cell_type": "code",
   "execution_count": null,
   "metadata": {},
   "outputs": [],
   "source": [
    "numbers_series[2] == np.nan #this is not the correct way to check this. "
   ]
  },
  {
   "cell_type": "code",
   "execution_count": null,
   "metadata": {},
   "outputs": [],
   "source": [
    "\n",
    "# Underneath, pandas represents NaN as a floating point number, \n",
    "# and because integers can be typecast to floats, pandas\n",
    "# went and converted our integers to floats. \n",
    "# So when you're wondering why the list of integers you put into a Series is ''not floats'', \n",
    "# it's probably because there is some missing data."
   ]
  },
  {
   "cell_type": "code",
   "execution_count": null,
   "metadata": {},
   "outputs": [],
   "source": [
    "\n",
    "\n",
    "# NaN is *NOT* equivilent to None and when we try the equality test, the result is False.\n",
    "\n",
    "# Lets bring in numpy which allows us to generate an NaN value\n",
    "import numpy as np\n",
    "# And lets compare it to None\n",
    "np.nan == None"
   ]
  },
  {
   "cell_type": "code",
   "execution_count": null,
   "metadata": {},
   "outputs": [],
   "source": [
    "# It turns out that you actually can't do an equality test of NAN to itself. When you do, \n",
    "# the answer is always False. \n",
    "\n",
    "np.nan == np.nan"
   ]
  },
  {
   "cell_type": "code",
   "execution_count": null,
   "metadata": {},
   "outputs": [],
   "source": [
    "# Instead, you need to use special functions to test for the presence of not a number, \n",
    "# such as the Numpy library isnan().\n",
    "\n",
    "np.isnan(np.nan)"
   ]
  },
  {
   "cell_type": "code",
   "execution_count": null,
   "metadata": {},
   "outputs": [],
   "source": [
    "np.isnan(numbers_series[2])"
   ]
  },
  {
   "cell_type": "code",
   "execution_count": null,
   "metadata": {},
   "outputs": [],
   "source": []
  },
  {
   "cell_type": "code",
   "execution_count": null,
   "metadata": {},
   "outputs": [],
   "source": [
    "# So keep in mind when you see NaN, it's meaning is similar to None, but it's a \n",
    "# numeric value and treated differently for efficiency reasons."
   ]
  },
  {
   "cell_type": "code",
   "execution_count": 15,
   "metadata": {},
   "outputs": [
    {
     "data": {
      "text/plain": [
       "Alice      Physics\n",
       "Jack     Chemistry\n",
       "Molly      English\n",
       "dtype: object"
      ]
     },
     "execution_count": 15,
     "metadata": {},
     "output_type": "execute_result"
    }
   ],
   "source": [
    "\n",
    "# A series can be created directly from dictionary data. \n",
    "# If you do this, the index is automatically assigned to the keys of the dictionary \n",
    "# that you provided and not jus incrementing integers.\n",
    "\n",
    "# Here's an example using some data of students and their classes.\n",
    "\n",
    "students_scores = {'Alice': 'Physics',\n",
    "                   'Jack': 'Chemistry',\n",
    "                   'Molly': 'English'}\n",
    "s = pd.Series(students_scores)\n",
    "s"
   ]
  },
  {
   "cell_type": "code",
   "execution_count": null,
   "metadata": {},
   "outputs": [],
   "source": [
    "# We see that, since it was string data, pandas set the data type of the series to \"object\".\n",
    "# We see that the index, the first column, is also a list of strings."
   ]
  },
  {
   "cell_type": "code",
   "execution_count": 17,
   "metadata": {},
   "outputs": [
    {
     "data": {
      "text/plain": [
       "Index(['Alice', 'Jack', 'Molly'], dtype='object')"
      ]
     },
     "execution_count": 17,
     "metadata": {},
     "output_type": "execute_result"
    }
   ],
   "source": [
    "# Once the series has been created, we can get the index object using the index attribute.\n",
    "\n",
    "s.index"
   ]
  },
  {
   "cell_type": "code",
   "execution_count": 23,
   "metadata": {},
   "outputs": [
    {
     "data": {
      "text/plain": [
       "0    (Alice, Brown)\n",
       "1     (Jack, White)\n",
       "2    (Molly, Green)\n",
       "dtype: object"
      ]
     },
     "execution_count": 23,
     "metadata": {},
     "output_type": "execute_result"
    }
   ],
   "source": [
    "# Lets create a more complex type of data, say, a list of tuples.\n",
    "students = [(\"Alice\",\"Brown\"), (\"Jack\", \"White\"), (\"Molly\", \"Green\")]\n",
    "pd.Series(students)\n"
   ]
  },
  {
   "cell_type": "code",
   "execution_count": null,
   "metadata": {},
   "outputs": [],
   "source": [
    "# We see that each of the tuples is stored in the series object, and the type is object."
   ]
  },
  {
   "cell_type": "code",
   "execution_count": 24,
   "metadata": {},
   "outputs": [
    {
     "data": {
      "text/plain": [
       "Alice      Physics\n",
       "Jack     Chemistry\n",
       "Molly      English\n",
       "dtype: object"
      ]
     },
     "execution_count": 24,
     "metadata": {},
     "output_type": "execute_result"
    }
   ],
   "source": [
    "# You can also separate your index creation from the data by passing in the index as a \n",
    "# list explicitly to the series.\n",
    "\n",
    "s = pd.Series(['Physics', 'Chemistry', 'English'], index=['Alice', 'Jack', 'Molly'])\n",
    "s"
   ]
  },
  {
   "cell_type": "code",
   "execution_count": 27,
   "metadata": {},
   "outputs": [
    {
     "data": {
      "text/plain": [
       "Molly       English\n",
       "Sam             NaN\n",
       "Mehmet          NaN\n",
       "Jack      Chemistry\n",
       "dtype: object"
      ]
     },
     "execution_count": 27,
     "metadata": {},
     "output_type": "execute_result"
    }
   ],
   "source": [
    "\n",
    "\n",
    "# Here's and example. I'll pass in a dictionary of three items, in this case students and\n",
    "# their courses\n",
    "students_scores = {'Alice': 'Physics',\n",
    "                   'Jack': 'Chemistry',\n",
    "                   'Molly': 'English'}\n",
    "# I create a series from the above dictionary but added another guy called Sam. \n",
    "\n",
    "s = pd.Series(students_scores, index=[ 'Molly', 'Sam', 'Mehmet','Jack'])\n",
    "s"
   ]
  },
  {
   "cell_type": "code",
   "execution_count": null,
   "metadata": {},
   "outputs": [],
   "source": [
    "# The result is that the Series object doesn't have Jack in it, even though he was in our\n",
    "# original dataset, but it explicitly does have Sam in it as a missing value."
   ]
  },
  {
   "cell_type": "markdown",
   "metadata": {},
   "source": [
    "In this lecture we've explored the pandas Series data structure. You've seen how to create a series from lists \n",
    "and dictionaries, how indicies on data work, and the way that pandas typecasts data including missing values."
   ]
  }
 ],
 "metadata": {
  "kernelspec": {
   "display_name": "Python 3",
   "language": "python",
   "name": "python3"
  },
  "language_info": {
   "codemirror_mode": {
    "name": "ipython",
    "version": 3
   },
   "file_extension": ".py",
   "mimetype": "text/x-python",
   "name": "python",
   "nbconvert_exporter": "python",
   "pygments_lexer": "ipython3",
   "version": "3.7.3"
  }
 },
 "nbformat": 4,
 "nbformat_minor": 2
}
