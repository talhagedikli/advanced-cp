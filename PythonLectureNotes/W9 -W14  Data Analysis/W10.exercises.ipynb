{
 "cells": [
  {
   "cell_type": "code",
   "execution_count": null,
   "metadata": {},
   "outputs": [],
   "source": [
    "#L1 Combine ser1 and ser2 to form a dataframe.  \n",
    "\n",
    "import numpy as np\n",
    "ser1 = pd.Series(list('abcedfghijklmnopqrstuvwxyz'))\n",
    "ser2 = pd.Series(np.arange(26))\n",
    "\n",
    " "
   ]
  },
  {
   "cell_type": "code",
   "execution_count": null,
   "metadata": {},
   "outputs": [],
   "source": [
    "#Give a name to the series ser calling it ‘alphabets’. \n",
    "#Input\n",
    "\n",
    "ser = pd.Series(list('abcedfghijklmnopqrstuvwxyz')\n",
    " \n",
    "                "
   ]
  },
  {
   "cell_type": "code",
   "execution_count": null,
   "metadata": {},
   "outputs": [],
   "source": [
    "# L1 Reshape the series ser into a dataframe with 7 rows and 5 columns \n",
    "\n",
    "ser = pd.Series(np.random.randint(1, 10, 35))\n",
    "\n",
    " "
   ]
  },
  {
   "cell_type": "code",
   "execution_count": null,
   "metadata": {},
   "outputs": [],
   "source": [
    "#Apply the function, f(x) = x/2 on each and every element of a given pandas series \n",
    "# using lambda function"
   ]
  },
  {
   "cell_type": "code",
   "execution_count": null,
   "metadata": {},
   "outputs": [],
   "source": [
    "# sort the following df by its id and then by its index\n",
    "'''\n",
    "    id  name    age   occupation\n",
    "0   2   Vinay   22    engineer\n",
    "1   1  Kushal   25      doctor\n",
    "2   1    Aman   24  accountant\n",
    "'''"
   ]
  },
  {
   "cell_type": "code",
   "execution_count": null,
   "metadata": {},
   "outputs": [],
   "source": [
    "# FOr the same df, Find the entries that has an age gretar than 23\n"
   ]
  },
  {
   "cell_type": "code",
   "execution_count": null,
   "metadata": {},
   "outputs": [],
   "source": [
    "'''\n",
    "     name       occ  salary\n",
    "0   Vinay  engineer   60000\n",
    "1  Kushal    doctor   70000\n",
    "2    Aman  engineer   50000\n",
    "3   Rahul    doctor   60000\n",
    "4  Ramesh    doctor   65000\n",
    "'''\n",
    "# Given is a dataframe showing name, occupation, salary of people. \n",
    "# Find the average salary per occupation"
   ]
  },
  {
   "cell_type": "code",
   "execution_count": null,
   "metadata": {},
   "outputs": [],
   "source": [
    "\n",
    "\n"
   ]
  },
  {
   "cell_type": "code",
   "execution_count": null,
   "metadata": {},
   "outputs": [],
   "source": [
    "'''\n",
    "     name       occ   salary\n",
    "0   Vinay  engineer      NaN\n",
    "1  Kushal    doctor  70000.0\n",
    "2    Aman  engineer      NaN\n",
    "3   Rahul    doctor  60000.0\n",
    "4  Ramesh    doctor  65000.0\n",
    "'''\n",
    "# fill the NaN values with 0"
   ]
  },
  {
   "cell_type": "code",
   "execution_count": null,
   "metadata": {},
   "outputs": [],
   "source": [
    "'''\n",
    "                cname  profit\n",
    "0         Shyam & Co.  -10000\n",
    "1      Ramlal & Bros.   10000\n",
    "2  Sharma Enterprises   -5000\n",
    "3    Verma Furnitures   15000\n",
    "4        Rahul Stores   20000\n",
    "\n",
    "Given is a dataframe showing Company Names (cname) and corresponding Profits (profit). \n",
    "Convert the values of Profit column such that values in it greater than 0 \n",
    "are set to True and the rest are set to False.\n",
    "'''\n"
   ]
  }
 ],
 "metadata": {
  "kernelspec": {
   "display_name": "Python 3",
   "language": "python",
   "name": "python3"
  },
  "language_info": {
   "codemirror_mode": {
    "name": "ipython",
    "version": 3
   },
   "file_extension": ".py",
   "mimetype": "text/x-python",
   "name": "python",
   "nbconvert_exporter": "python",
   "pygments_lexer": "ipython3",
   "version": "3.7.3"
  }
 },
 "nbformat": 4,
 "nbformat_minor": 2
}
