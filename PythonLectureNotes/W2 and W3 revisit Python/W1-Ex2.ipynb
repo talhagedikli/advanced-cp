{
 "cells": [
  {
   "cell_type": "code",
   "execution_count": null,
   "metadata": {},
   "outputs": [],
   "source": [
    "#exercise 4\n",
    "# Here is a list of faculty teaching this MOOC.\n",
    "#Can you write a function and apply it using map()\n",
    "#to get a list of all faculty titles \n",
    "#and last names (e.g. ['Dr. Brooks', 'Dr. Collins-Thompson', …]) ?\n",
    "\n",
    "\n",
    "\n",
    "\n",
    "people = ['Dr. Christopher Brooks', 'Dr. Kevyn Collins-Thompson', 'Dr. VG Vinod Vydiswaran', 'Dr. Daniel Romero']\n",
    "\n",
    "def split_title_and_name(person):\n",
    "    return #Your answer here\n",
    "\n",
    "list(map(#Your answer here))\n"
   ]
  },
  {
   "cell_type": "code",
   "execution_count": null,
   "metadata": {},
   "outputs": [],
   "source": [
    "#exercise 4.1\n",
    "# write a map function which takes a list of strings and then reverses them. \n",
    "#['abc','mehmet'] ==> will return ['cba','temhem']\n"
   ]
  },
  {
   "cell_type": "code",
   "execution_count": null,
   "metadata": {},
   "outputs": [],
   "source": [
    "# exercise 4.2\n",
    "# write the same code using a lambda function. \n",
    " "
   ]
  },
  {
   "cell_type": "code",
   "execution_count": null,
   "metadata": {},
   "outputs": [],
   "source": [
    "# Exercise 5 \n",
    "# Convert this function into a lambda:\n",
    "people = ['Dr. Christopher Brooks', 'Dr. Kevyn Collins-Thompson', 'Dr. VG Vinod Vydiswaran', 'Dr. Daniel Romero']\n",
    "\n",
    "def split_title_and_name(person):\n",
    "    return person.split()[0] + ' ' + person.split()[-1]\n",
    "\n",
    "#option 1\n",
    "for person in people:\n",
    "    print(split_title_and_name(person) == (lambda person:???))\n",
    "\n",
    "#option 2\n",
    "#list(map(split_title_and_name, people)) == list(map(???))"
   ]
  },
  {
   "cell_type": "code",
   "execution_count": 2,
   "metadata": {},
   "outputs": [
    {
     "data": {
      "text/plain": [
       "True"
      ]
     },
     "execution_count": 2,
     "metadata": {},
     "output_type": "execute_result"
    }
   ],
   "source": [
    "#exercise 6\n",
    "# try converting a function into a list comprehension.\n",
    "\n",
    "def times_tables():\n",
    "    lst = []\n",
    "    for i in range(10):\n",
    "        for j in range (10):\n",
    "            lst.append(i*j)\n",
    "    return lst\n",
    "\n",
    "#times_tables() == [???]"
   ]
  },
  {
   "cell_type": "code",
   "execution_count": 4,
   "metadata": {},
   "outputs": [],
   "source": [
    "#exercise 7\n",
    "# Many organizations have user ids which are constrained in some way. \n",
    "#Imagine you work at an internet service provider and the user ids are \n",
    "#all two letters followed by two numbers (e.g. aa49). \n",
    "#Your task at such an organization might be to hold a record \n",
    "#on the billing activity for each possible user. \n",
    "\n",
    "#Write an initialization line as a single list comprehension which creates \n",
    "#a list of all possible user ids. Assume the letters are all lower case.\n",
    "\n",
    "\n",
    "lowercase = 'abcdefghijklmnopqrstuvwxyz'\n",
    "digits = '0123456789'\n"
   ]
  }
 ],
 "metadata": {
  "kernelspec": {
   "display_name": "Python 3",
   "language": "python",
   "name": "python3"
  },
  "language_info": {
   "codemirror_mode": {
    "name": "ipython",
    "version": 3
   },
   "file_extension": ".py",
   "mimetype": "text/x-python",
   "name": "python",
   "nbconvert_exporter": "python",
   "pygments_lexer": "ipython3",
   "version": "3.7.3"
  }
 },
 "nbformat": 4,
 "nbformat_minor": 2
}
