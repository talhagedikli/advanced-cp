{
 "cells": [
  {
   "cell_type": "code",
   "execution_count": null,
   "metadata": {},
   "outputs": [],
   "source": [
    "#Exercise 1\n",
    "\n",
    "#please change the function so that it adds three numbers but \n",
    "# if the third is not given than it adds two numbers. \n",
    "\n",
    "def add_numbers():\n",
    "...\n",
    "\n",
    "add_numbers(1, 2,3 ) \n"
   ]
  },
  {
   "cell_type": "code",
   "execution_count": null,
   "metadata": {},
   "outputs": [],
   "source": [
    "def add_number(x,y,z=None):\n",
    "    if z==None:\n",
    "        return x+y\n",
    "    else:\n",
    "        return x+y+z\n",
    "add_number(1,2)"
   ]
  },
  {
   "cell_type": "code",
   "execution_count": null,
   "metadata": {},
   "outputs": [],
   "source": [
    "#Exercise 2\n",
    "\n",
    "\n",
    "#This function should add the two values if the value of the \"kind\" \n",
    "#parameter is \"add\" or is not passed in, \n",
    "#otherwise it should subtract the second value from the first. \n",
    "\n",
    "#Can you fix the function so that it works?\n",
    "\n",
    "def do_math(?, ?, ?):\n",
    "  if (kind=='add'):\n",
    "    return a+b\n",
    "  else:\n",
    "    return a-b\n",
    "\n",
    "do_math(1, 2)   \n",
    "    \n",
    "    "
   ]
  },
  {
   "cell_type": "code",
   "execution_count": null,
   "metadata": {},
   "outputs": [],
   "source": [
    "def do_math(a, b, kind ='add'):\n",
    "    if (kind=='add'):\n",
    "        return a+b\n",
    "    else:\n",
    "        return a-b\n",
    "\n",
    "do_math(1, 2) "
   ]
  },
  {
   "cell_type": "code",
   "execution_count": null,
   "metadata": {},
   "outputs": [],
   "source": [
    "#Exercise 3\n",
    "# What would be an appropriate slice to get the name \n",
    "#\"Christopher\" from the string \"Dr. Christopher Brooks\"\n",
    "x = 'Dr. Christopher Brooks'\n",
    "x[4:15]\n",
    "#print(x[???])"
   ]
  },
  {
   "cell_type": "code",
   "execution_count": null,
   "metadata": {},
   "outputs": [],
   "source": [
    "# Exercise 4\n",
    "# Write a function which takes a string and returns a dictionary which gives the number of occurrences of characters. \n",
    "# for example for mississippi it will return\n",
    "# {'m': 1, 'i': 4, 's': 4, 'p': 2}\n",
    "\n",
    "def findletters(s):\n",
    "    dict1 = {}\n",
    "    for i in s:\n",
    "        \n",
    "        if i in dict1:\n",
    "            dict1[i]  = dict1[i] + 1\n",
    "        else:\n",
    "            dict1[i] = 1\n",
    "    return dict1\n",
    "findletters(\"yildiz teknik universitesi endustri muhendisligi\")"
   ]
  },
  {
   "cell_type": "code",
   "execution_count": null,
   "metadata": {},
   "outputs": [],
   "source": []
  },
  {
   "cell_type": "code",
   "execution_count": null,
   "metadata": {},
   "outputs": [],
   "source": [
    "#exercise 5\n",
    "# write a function which finds the nth root of a number that is between 0 and 100\n",
    "# using bisection method (What was it???)\n",
    "# The number itself, the epsilon and the nth root should be parameters \n",
    "# but must have default values whenever necessary. \n",
    "\n"
   ]
  },
  {
   "cell_type": "code",
   "execution_count": null,
   "metadata": {},
   "outputs": [],
   "source": [
    "def bisec(x,n=2,eps=0.001):\n",
    "    left = 1\n",
    "    right = x\n",
    "    g = (left + right)/2\n",
    "    iter = 0\n",
    "    while abs(g**n-x) > eps:\n",
    "        iter +=1\n",
    "        if g**n>x:\n",
    "            right = g\n",
    "        else:\n",
    "            left = g\n",
    "        if iter>1000:\n",
    "            return g\n",
    "        \n",
    "    return g\n",
    "\n",
    "bisec(9)"
   ]
  },
  {
   "cell_type": "code",
   "execution_count": null,
   "metadata": {},
   "outputs": [],
   "source": []
  }
 ],
 "metadata": {
  "kernelspec": {
   "display_name": "Python 3",
   "language": "python",
   "name": "python3"
  },
  "language_info": {
   "codemirror_mode": {
    "name": "ipython",
    "version": 3
   },
   "file_extension": ".py",
   "mimetype": "text/x-python",
   "name": "python",
   "nbconvert_exporter": "python",
   "pygments_lexer": "ipython3",
   "version": "3.7.3"
  }
 },
 "nbformat": 4,
 "nbformat_minor": 2
}
